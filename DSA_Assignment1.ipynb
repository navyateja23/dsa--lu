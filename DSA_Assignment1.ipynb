{
  "nbformat": 4,
  "nbformat_minor": 0,
  "metadata": {
    "colab": {
      "name": "DSA Assignment1.ipynb",
      "provenance": [],
      "collapsed_sections": []
    },
    "kernelspec": {
      "name": "python3",
      "display_name": "Python 3"
    }
  },
  "cells": [
    {
      "cell_type": "markdown",
      "metadata": {
        "id": "o21WNwRbxX-g"
      },
      "source": [
        "ASSIGNMENT QUESTIONS\r\n",
        "\r\n",
        "Q1:"
      ]
    },
    {
      "cell_type": "code",
      "metadata": {
        "id": "EyIj4qcaxdl3"
      },
      "source": [
        "x = 12\r\n",
        "\r\n",
        "y = 26"
      ],
      "execution_count": 1,
      "outputs": []
    },
    {
      "cell_type": "code",
      "metadata": {
        "colab": {
          "base_uri": "https://localhost:8080/"
        },
        "id": "iZ--kvByyIZ2",
        "outputId": "e552db4b-7cdb-4aff-b795-5f32aea504db"
      },
      "source": [
        "# addition \r\n",
        "\r\n",
        "print(x + y)"
      ],
      "execution_count": 2,
      "outputs": [
        {
          "output_type": "stream",
          "text": [
            "38\n"
          ],
          "name": "stdout"
        }
      ]
    },
    {
      "cell_type": "code",
      "metadata": {
        "colab": {
          "base_uri": "https://localhost:8080/"
        },
        "id": "u5kSH3jcyax1",
        "outputId": "ea76d05d-14bf-431e-f633-f7091fd3b2a7"
      },
      "source": [
        "# subtraction\r\n",
        "\r\n",
        "print(x-y)"
      ],
      "execution_count": 3,
      "outputs": [
        {
          "output_type": "stream",
          "text": [
            "-14\n"
          ],
          "name": "stdout"
        }
      ]
    },
    {
      "cell_type": "code",
      "metadata": {
        "colab": {
          "base_uri": "https://localhost:8080/"
        },
        "id": "TTJou9YZyWqJ",
        "outputId": "ab63f5b7-0e15-4c5f-c127-76c9eb815635"
      },
      "source": [
        "# multiplication\r\n",
        "\r\n",
        "print(x * y)"
      ],
      "execution_count": 4,
      "outputs": [
        {
          "output_type": "stream",
          "text": [
            "312\n"
          ],
          "name": "stdout"
        }
      ]
    },
    {
      "cell_type": "code",
      "metadata": {
        "colab": {
          "base_uri": "https://localhost:8080/"
        },
        "id": "OcxMxsZHzbtm",
        "outputId": "ca73c268-3b41-44a8-bbbc-7fdcc1e8c071"
      },
      "source": [
        "# division\r\n",
        "\r\n",
        "print(x / y)"
      ],
      "execution_count": 5,
      "outputs": [
        {
          "output_type": "stream",
          "text": [
            "0.46153846153846156\n"
          ],
          "name": "stdout"
        }
      ]
    },
    {
      "cell_type": "markdown",
      "metadata": {
        "id": "8ZS3KRt50_W6"
      },
      "source": [
        "Q2:\r\n"
      ]
    },
    {
      "cell_type": "code",
      "metadata": {
        "colab": {
          "base_uri": "https://localhost:8080/"
        },
        "id": "2MfVMKQ40-8o",
        "outputId": "a9874960-0fa2-4bf2-8a60-10e62709d41d"
      },
      "source": [
        "x = 2\r\n",
        "\r\n",
        "y = 4\r\n",
        "\r\n",
        "print(pow(x , y))"
      ],
      "execution_count": 12,
      "outputs": [
        {
          "output_type": "stream",
          "text": [
            "16\n"
          ],
          "name": "stdout"
        }
      ]
    },
    {
      "cell_type": "code",
      "metadata": {
        "colab": {
          "base_uri": "https://localhost:8080/"
        },
        "id": "X06kWc4h1Pbp",
        "outputId": "020b3215-efd3-42f9-bb54-9d1c446d8413"
      },
      "source": [
        "x = 12\r\n",
        "\r\n",
        "y = 2\r\n",
        "\r\n",
        "print(pow(x , y))"
      ],
      "execution_count": 11,
      "outputs": [
        {
          "output_type": "stream",
          "text": [
            "144\n"
          ],
          "name": "stdout"
        }
      ]
    }
  ]
}